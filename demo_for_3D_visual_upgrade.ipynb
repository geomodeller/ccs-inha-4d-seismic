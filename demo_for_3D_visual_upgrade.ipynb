{
 "cells": [
  {
   "cell_type": "code",
   "execution_count": null,
   "metadata": {},
   "outputs": [],
   "source": [
    "import pyvista as pv\n",
    "from pyvista import examples\n",
    "import numpy as np\n",
    "import matplotlib.pyplot as plt"
   ]
  },
  {
   "cell_type": "code",
   "execution_count": null,
   "metadata": {},
   "outputs": [],
   "source": [
    "dem = examples.download_crater_topo()\n",
    "subset = dem.extract_subset((500, 900, 400, 800, 0, 0), (5, 5, 1))\n",
    "terrain = subset.warp_by_scalar()\n",
    "z_cells = np.array([25] * 5 + [35] * 3 + [50] * 2 + [75, 100])\n",
    "\n",
    "xx = np.repeat(terrain.x, len(z_cells), axis=-1)\n",
    "yy = np.repeat(terrain.y, len(z_cells), axis=-1)\n",
    "zz = np.repeat(terrain.z, len(z_cells), axis=-1) - np.cumsum(z_cells).reshape((1, 1, -1))\n",
    "\n",
    "mesh = pv.StructuredGrid(xx, yy, zz)\n",
    "\n",
    "mesh[\"Elevation\"] = zz.ravel(order=\"F\")"
   ]
  },
  {
   "cell_type": "code",
   "execution_count": null,
   "metadata": {},
   "outputs": [],
   "source": [
    "mesh.add_field_data(z_cells, \"Depth\", 0)"
   ]
  },
  {
   "cell_type": "code",
   "execution_count": null,
   "metadata": {},
   "outputs": [],
   "source": [
    "mesh[\"Valuse\"]= xx.ravel(order=\"F\")\n",
    "mesh[\"Something\"] = zz.ravel(order=\"F\")"
   ]
  },
  {
   "cell_type": "code",
   "execution_count": null,
   "metadata": {},
   "outputs": [],
   "source": [
    "plt.imshow(terrain.x[...,0])"
   ]
  },
  {
   "cell_type": "code",
   "execution_count": null,
   "metadata": {},
   "outputs": [],
   "source": [
    "p = pv.Plotter()\n",
    "p.add_mesh(mesh, scalars=\"Something\"); #, clim=[-999999, 999999]);\n",
    "p.show()"
   ]
  },
  {
   "cell_type": "code",
   "execution_count": null,
   "metadata": {},
   "outputs": [],
   "source": []
  }
 ],
 "metadata": {
  "kernelspec": {
   "display_name": "Python 3",
   "language": "python",
   "name": "python3"
  },
  "language_info": {
   "codemirror_mode": {
    "name": "ipython",
    "version": 3
   },
   "file_extension": ".py",
   "mimetype": "text/x-python",
   "name": "python",
   "nbconvert_exporter": "python",
   "pygments_lexer": "ipython3",
   "version": "3.11.2"
  }
 },
 "nbformat": 4,
 "nbformat_minor": 2
}
