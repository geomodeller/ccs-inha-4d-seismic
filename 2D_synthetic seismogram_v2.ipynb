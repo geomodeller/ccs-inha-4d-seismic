{
 "cells": [
  {
   "cell_type": "markdown",
   "metadata": {},
   "source": [
    "## CMG_CCS_4D_Seiscmic\n",
    "\n",
    "Author: Hyunmin Kim | Last Update Date: 2024-02-19"
   ]
  },
  {
   "cell_type": "code",
   "execution_count": null,
   "metadata": {},
   "outputs": [],
   "source": [
    "%reload_ext autoreload\n",
    "%autoreload 2\n",
    "\n",
    "import numpy as np\n",
    "import pandas as pd\n",
    "import matplotlib.pyplot as plt\n",
    "import os, shutil\n",
    "from tqdm import tqdm \n",
    "from multiprocessing import Pool\n",
    "import pyvista as pv\n",
    "from lib.Sim_CMG_CCS import Sim_CCS"
   ]
  },
  {
   "cell_type": "code",
   "execution_count": null,
   "metadata": {},
   "outputs": [],
   "source": [
    "Current_dir = os.getcwd()\n",
    "N_ensemble = 500\n",
    "N_thread = 5"
   ]
  },
  {
   "cell_type": "code",
   "execution_count": null,
   "metadata": {},
   "outputs": [],
   "source": [
    "NX, NY, NZ = 32, 32, 16\n",
    "# instantiate the simulation object\n",
    "sim_ccs = Sim_CCS()\n",
    "\n",
    "data = np.load('ensemble_500.npz')\n",
    "Facies = data['Facies']\n",
    "Porosity = data['Porosity']\n",
    "Permeability = data['Permeability']\n",
    "\n",
    "# set the simulation parameters\n",
    "input_parameters = {'porosity': Porosity,\n",
    "                    'permeability': Permeability,\n",
    "                    'Facies': Facies}\n",
    "\n",
    "# set the bottom hole pressure constraint\n",
    "maximum_bhp = 3500 # psi\n",
    "sim_ccs.reset_bhp_constraint(maximum_bhp)\n",
    "\n",
    "# set the injection amount\n",
    "injection_rate = 15_839_619 # scf/day\n",
    "sim_ccs.reset_injection_amout(injection_rate)\n",
    "\n",
    "# set your CMG exe path\n",
    "cmg_exe = '\"C:\\\\Program Files\\\\CMG\\\\GEM\\\\2020.10\\\\Win_x64\\\\EXE\\\\gm202010.exe\"'\n",
    "sim_ccs.reset_parameters_to_play(list(input_parameters.keys()))\n",
    "sim_ccs.reset_CMG_exe(cmg_exe)\n",
    "# sim_ccs.remove_out_files()"
   ]
  },
  {
   "cell_type": "code",
   "execution_count": null,
   "metadata": {},
   "outputs": [],
   "source": [
    "sim_ccs.ensemble_simulation(input_parameters=input_parameters)"
   ]
  },
  {
   "cell_type": "code",
   "execution_count": null,
   "metadata": {},
   "outputs": [],
   "source": [
    "sim_ccs.N_ensemble = 500\n",
    "sim_ccs.run_multiple_CMG(N_thread=5)"
   ]
  },
  {
   "cell_type": "code",
   "execution_count": null,
   "metadata": {},
   "outputs": [],
   "source": [
    "f = open(os.path.join(run_dir, 'porosity.inc'))\n",
    "lines = []\n",
    "for line in f:\n",
    "    if line == '*POR *ALL\\n':\n",
    "        continue\n",
    "    lines.append(line.split(' ')[0])\n",
    "por = np.array(lines, dtype=float).reshape((NZ, NY, NX))"
   ]
  },
  {
   "cell_type": "code",
   "execution_count": null,
   "metadata": {},
   "outputs": [],
   "source": [
    "f = open(os.path.join(run_dir, 'permeability.inc'))\n",
    "lines = []\n",
    "for line in f:\n",
    "    if line == '*PERMI *ALL\\n':\n",
    "        continue\n",
    "    lines.append(line.split(' ')[0])\n",
    "perm = np.array(lines, dtype=float).reshape((NZ, NY, NX))"
   ]
  },
  {
   "cell_type": "code",
   "execution_count": null,
   "metadata": {},
   "outputs": [],
   "source": [
    "sim_ccs.CMG_GEM_data_file = 'cmg_ccs_run_file_v2.dat'"
   ]
  },
  {
   "cell_type": "code",
   "execution_count": null,
   "metadata": {},
   "outputs": [],
   "source": [
    "sim_ccs.reset_Ptime([2025, 2026, 2027, 2028, 2029])\n",
    "Sg =  sim_ccs.read_grid_results(run_dir='Test')['GasSaturation']\n",
    "\n",
    "psi_to_bar = 0.0689476\n",
    "P = sim_ccs.read_grid_results(run_dir='Test')['Pressure(psia)'] * psi_to_bar\n",
    "\n",
    "F_to_K = lambda x: (x - 32) * 5 / 9 + 273.15\n",
    "\n",
    "T = F_to_K(sim_ccs.read_grid_results(run_dir='Test')['Temperature(degF)'])\n",
    "S = np.ones_like(P) * 0.02\n",
    "\n",
    "ft_to_m = 0.3048\n",
    "TOP_D = sim_ccs.read_top_depth(run_dir=run_dir) * ft_to_m\n",
    "DZ = np.ones_like(por_map) * 6.25 * ft_to_m"
   ]
  },
  {
   "cell_type": "markdown",
   "metadata": {},
   "source": [
    "## Calculate Vp in the reservoir"
   ]
  },
  {
   "cell_type": "code",
   "execution_count": null,
   "metadata": {},
   "outputs": [],
   "source": [
    "from lib.seismogram import CCS_Seismogram"
   ]
  },
  {
   "cell_type": "code",
   "execution_count": null,
   "metadata": {},
   "outputs": [],
   "source": [
    "ccs_seis = CCS_Seismogram(P=P, T=T, S=S,\n",
    "                          por=por, Sg=Sg, TOP_D=TOP_D,\n",
    "                          current_directory=os.getcwd(),\n",
    "                          heat_capacity_file='Heat_capacity_of_co2.xlsx')"
   ]
  },
  {
   "cell_type": "code",
   "execution_count": null,
   "metadata": {},
   "outputs": [],
   "source": [
    "Vp = ccs_seis.velocity_of_saturated_rock()\n",
    "rho_sat = ccs_seis.rho_sat"
   ]
  },
  {
   "cell_type": "code",
   "execution_count": null,
   "metadata": {},
   "outputs": [],
   "source": [
    "plt.figure(figsize=(20, 10))\n",
    "plt.subplot(2, 2, 1)\n",
    "plt.imshow(Vp[1, :, 10, :] - Vp[0, :, 10, :])\n",
    "plt.colorbar()\n",
    "plt.xlabel('X-coordinate')\n",
    "plt.ylabel('Z-coordinate')\n",
    "plt.title('Vp changes at 1yr (km/s)', fontdict={'fontsize': 25})\n",
    "\n",
    "plt.subplot(2, 2, 2)\n",
    "plt.imshow(Vp[2, :, 10, :] - Vp[0, :, 10, :])\n",
    "plt.colorbar()\n",
    "plt.xlabel('X-coordinate')\n",
    "plt.ylabel('Z-coordinate')\n",
    "plt.title('Vp changes at 2yr (km/s)', fontdict={'fontsize': 25})\n",
    "\n",
    "plt.subplot(2, 2, 3)\n",
    "plt.imshow(Vp[3, :, 10, :] - Vp[0, :, 10, :], vmax=0)\n",
    "plt.colorbar()\n",
    "plt.xlabel('X-coordinate')\n",
    "plt.ylabel('Z-coordinate')\n",
    "plt.title('Vp changes at 3yr (km/s)', fontdict={'fontsize': 25})\n",
    "\n",
    "plt.subplot(2, 2, 4)\n",
    "plt.imshow(Vp[4, :, 10, :] - Vp[0, :, 10, :])\n",
    "plt.colorbar()\n",
    "plt.xlabel('X-coordinate')\n",
    "plt.ylabel('Z-coordinate')\n",
    "plt.title('Vp changes at 4yr (km/s)', fontdict={'fontsize': 25})"
   ]
  },
  {
   "cell_type": "code",
   "execution_count": null,
   "metadata": {},
   "outputs": [],
   "source": [
    "plt.figure(figsize=(20, 10))\n",
    "plt.subplot(2, 3, 1)\n",
    "plt.imshow(Vp[3, :, 10, :])\n",
    "plt.colorbar()\n",
    "plt.xlabel('X-coordinate')\n",
    "plt.ylabel('Z-coordinate')\n",
    "plt.title('Seismic velocity (km/s)', fontdict={'fontsize': 25})\n",
    "\n",
    "plt.subplot(2, 3, 2)\n",
    "plt.imshow(rho_sat[3, :, 10, :])\n",
    "plt.colorbar()\n",
    "plt.xlabel('X-coordinate')\n",
    "plt.ylabel('Z-coordinate')\n",
    "plt.title('density of rock (g/cm3)', fontdict={'fontsize': 25})\n",
    "\n",
    "plt.subplot(2, 3, 3)\n",
    "plt.imshow(P[3, :, 10, :])\n",
    "plt.colorbar()\n",
    "plt.xlabel('X-coordinate')\n",
    "plt.ylabel('Z-coordinate')\n",
    "plt.title('Pressure (bar)', fontdict={'fontsize': 25})\n",
    "\n",
    "plt.subplot(2, 3, 4)\n",
    "plt.imshow(Sg[3, :, 10, :])\n",
    "plt.colorbar()\n",
    "plt.xlabel('X-coordinate')\n",
    "plt.ylabel('Z-coordinate')\n",
    "plt.title('Gas saturation', fontdict={'fontsize': 25})\n",
    "\n",
    "plt.subplot(2, 3, 5)\n",
    "plt.imshow(por[:, 10, :])\n",
    "plt.colorbar()\n",
    "plt.xlabel('X-coordinate')\n",
    "plt.ylabel('Z-coordinate')\n",
    "plt.title('Porosity', fontdict={'fontsize': 25})\n",
    "\n",
    "plt.subplot(2, 3, 6)\n",
    "plt.imshow(perm[:, 10, :])\n",
    "plt.colorbar()\n",
    "plt.xlabel('X-coordinate')\n",
    "plt.ylabel('Z-coordinate')\n",
    "plt.title('Permeability', fontdict={'fontsize': 25})\n",
    "plt.tight_layout()"
   ]
  },
  {
   "cell_type": "markdown",
   "metadata": {},
   "source": [
    "## Poststacked seismic data extraction"
   ]
  },
  {
   "cell_type": "code",
   "execution_count": null,
   "metadata": {},
   "outputs": [],
   "source": [
    "seismic_tdom, seismic = ccs_seis.seismic(DZ, TOP_D)"
   ]
  },
  {
   "cell_type": "code",
   "execution_count": null,
   "metadata": {},
   "outputs": [],
   "source": [
    "flag = seismic_tdom[-1].max(axis = -1).max(axis = -1) > .001\n",
    "seismic_init= seismic_tdom[0, flag]\n",
    "seismic_5yr = seismic_tdom[-1, flag]\n",
    "visual_grid = seismic_init - seismic_5yr\n",
    "grid = pv.ImageData()\n",
    "grid.dimensions = np.array(visual_grid[::-1].T.shape) + 1\n",
    "grid.origin = (1, 1, 1)  # The bottom left corner of the data set\n",
    "grid.spacing = (1, 1, 1/3)  # These are the cell sizes along each axis\n",
    "grid.cell_data[\"values\"] = visual_grid[::-1].T.flatten(order=\"F\")  # Flatten the array\n",
    "slice = grid.slice_along_axis(n=7, axis=\"y\")#slice_orthogonal(x=9, y=9, z=10)\n",
    "slice.plot(show_edges=False, cmap = 'seismic')"
   ]
  },
  {
   "cell_type": "code",
   "execution_count": null,
   "metadata": {},
   "outputs": [],
   "source": [
    "plt.figure(figsize=(20,10))\n",
    "\n",
    "AI = ccs_seis.Vp * ccs_seis.rho_sat * 1000 # Pa*s/m3\n",
    "plt.subplot(2, 2, 1)\n",
    "plt.imshow(AI[3, :, 10, : ])\n",
    "plt.colorbar()\n",
    "plt.xlabel('X-coordinate')\n",
    "plt.ylabel('Z-coordinate')\n",
    "plt.title('Acoustic impedance', fontdict={'fontsize': 20})\n",
    "\n",
    "plt.subplot(2, 2, 2)\n",
    "plt.imshow(seismic[3, :, 10, :], cmap = 'seismic')\n",
    "plt.colorbar()\n",
    "plt.xlabel('X-coordinate')\n",
    "plt.ylabel('Z-coordinate')\n",
    "plt.title('Poststack seismic', fontdict={'fontsize': 20})\n",
    "\n",
    "TWT = ccs_seis.two_way_travel_time(DZ, TOP_D)\n",
    "plt.subplot(2, 2, 3)\n",
    "plt.imshow(TWT[3, :, 10, : ])\n",
    "plt.colorbar()\n",
    "plt.xlabel('X-coordinate')\n",
    "plt.ylabel('Z-coordinate')\n",
    "plt.title('two-way travel time (sec)', fontdict={'fontsize': 20})\n",
    "\n",
    "plt.subplot(2, 2, 4)\n",
    "plt.imshow(Sg[3, :, 10, : ])\n",
    "plt.colorbar()\n",
    "plt.xlabel('X-coordinate')\n",
    "plt.ylabel('Z-coordinate')\n",
    "plt.title('Gas saturation', fontdict={'fontsize': 20})\n"
   ]
  },
  {
   "cell_type": "code",
   "execution_count": null,
   "metadata": {},
   "outputs": [],
   "source": [
    "time_lapse_seismic = np.ones_like(seismic)\n",
    "for i in range(6):\n",
    "    time_lapse_seismic[i] = seismic[i] - seismic[0]\n",
    "\n",
    "plt.figure(figsize=(20,10))\n",
    "\n",
    "plt.subplot(2, 2, 1)\n",
    "plt.imshow(time_lapse_seismic[0, :, 10, : ], cmap = 'seismic', vmin = -1, vmax = 1)\n",
    "plt.colorbar()\n",
    "plt.xlabel('X-coordinate')\n",
    "plt.ylabel('Z-coordinate')\n",
    "plt.title('time_lapse_seismic at 0yr', fontdict={'fontsize': 20})\n",
    "\n",
    "plt.subplot(2, 2, 2)\n",
    "plt.imshow(time_lapse_seismic[1, :, 10, :], cmap = 'seismic', vmin = -1, vmax = 1)\n",
    "plt.colorbar()\n",
    "plt.xlabel('X-coordinate')\n",
    "plt.ylabel('Z-coordinate')\n",
    "plt.title('time_lapse_seismic at 1yr', fontdict={'fontsize': 20})\n",
    "\n",
    "plt.subplot(2, 2, 3)\n",
    "plt.imshow(time_lapse_seismic[2, :, 10, : ], cmap = 'seismic', vmin = -1, vmax = 1)\n",
    "plt.colorbar()\n",
    "plt.xlabel('X-coordinate')\n",
    "plt.ylabel('Z-coordinate')\n",
    "plt.title('time_lapse_seismic at 2yr', fontdict={'fontsize': 20})\n",
    "\n",
    "plt.subplot(2, 2, 4)\n",
    "plt.imshow(time_lapse_seismic[3, :, 10, : ], cmap = 'seismic', vmin = -1, vmax = 1)\n",
    "plt.colorbar()\n",
    "plt.xlabel('X-coordinate')\n",
    "plt.ylabel('Z-coordinate')\n",
    "plt.title('time_lapse_seismic at 3yr', fontdict={'fontsize': 20})"
   ]
  }
 ],
 "metadata": {
  "kernelspec": {
   "display_name": "SPWLA",
   "language": "python",
   "name": "python3"
  },
  "language_info": {
   "codemirror_mode": {
    "name": "ipython",
    "version": 3
   },
   "file_extension": ".py",
   "mimetype": "text/x-python",
   "name": "python",
   "nbconvert_exporter": "python",
   "pygments_lexer": "ipython3",
   "version": "3.12.4"
  }
 },
 "nbformat": 4,
 "nbformat_minor": 2
}
