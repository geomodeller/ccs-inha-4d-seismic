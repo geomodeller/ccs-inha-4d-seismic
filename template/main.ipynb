{
 "cells": [
  {
   "cell_type": "code",
   "execution_count": null,
   "metadata": {},
   "outputs": [],
   "source": [
    "from Sim_CMG_CCS import Sim_CCS"
   ]
  },
  {
   "cell_type": "code",
   "execution_count": null,
   "metadata": {},
   "outputs": [],
   "source": [
    "sim_ccs = Sim_CCS()\n",
    "input_parameters = {'well_1_perf_top':10, 'well_1_perf_bottom':16, \n",
    "                    'well_2_perf_top':1, 'well_2_perf_bottom':10, \n",
    "                    'well_3_perf_top':1, 'well_3_perf_bottom':5, \n",
    "                    'well_4_perf_top':3, 'well_4_perf_bottom':10, \n",
    "                    'sch_ratio_year_1': [0.25,0.25,0.25,0.25],\n",
    "                    'sch_ratio_year_2': [0.25,0.25,0.25,0.25],\n",
    "                    'sch_ratio_year_3': [0.25,0.25,0.25,0.25],\n",
    "                    }\n",
    "maximum_bhp = 3500 # psi\n",
    "# sim_ccs.remove_out_files()\n",
    "sim_ccs.reset_bhp_constraint(maximum_bhp)"
   ]
  },
  {
   "cell_type": "code",
   "execution_count": null,
   "metadata": {},
   "outputs": [],
   "source": [
    "%%time\n",
    "sim_ccs.run_simulation(input_parameters=input_parameters)\n"
   ]
  },
  {
   "cell_type": "code",
   "execution_count": null,
   "metadata": {},
   "outputs": [],
   "source": [
    "well_out = sim_ccs.read_well_results()"
   ]
  },
  {
   "cell_type": "code",
   "execution_count": null,
   "metadata": {},
   "outputs": [],
   "source": [
    "grid_out =  sim_ccs.read_grid_results()"
   ]
  },
  {
   "cell_type": "code",
   "execution_count": null,
   "metadata": {},
   "outputs": [],
   "source": [
    "sim_ccs.visual_3d(grid_out['Pressure(psia)'][1])"
   ]
  }
 ],
 "metadata": {
  "kernelspec": {
   "display_name": "Python 3",
   "language": "python",
   "name": "python3"
  },
  "language_info": {
   "codemirror_mode": {
    "name": "ipython",
    "version": 3
   },
   "file_extension": ".py",
   "mimetype": "text/x-python",
   "name": "python",
   "nbconvert_exporter": "python",
   "pygments_lexer": "ipython3",
   "version": "3.11.2"
  }
 },
 "nbformat": 4,
 "nbformat_minor": 2
}
